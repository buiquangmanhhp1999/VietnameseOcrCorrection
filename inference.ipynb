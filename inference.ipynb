{
 "cells": [
  {
   "cell_type": "code",
   "execution_count": 1,
   "metadata": {},
   "outputs": [],
   "source": [
    "from tool.predictor import Predictor\n",
    "import time\n",
    "from tool.utils import extract_phrases\n",
    "\n",
    "model_predictor = Predictor(device='cpu', model_type='seq2seq', weight_path='./weights/seq2seq_0.pth')"
   ]
  },
  {
   "cell_type": "code",
   "execution_count": 2,
   "metadata": {},
   "outputs": [
    {
     "data": {
      "text/plain": "['Trên cơ sở kết quả kiểm tra hiện trạng',\n 'Tòa án nhân dân tối cao xem xét',\n 'lập phương án sắp xếp lại']"
     },
     "execution_count": 2,
     "metadata": {},
     "output_type": "execute_result"
    }
   ],
   "source": [
    "extract_phrases(\"Trên cơ sở kết quả kiểm tra hiện trạng, Tòa án nhân dân tối cao xem xét, lập phương án sắp xếp lại.\")"
   ]
  },
  {
   "cell_type": "code",
   "execution_count": 3,
   "metadata": {},
   "outputs": [],
   "source": [
    "unacc_paragraphs = [\n",
    "    \"Trên cơsở kếT quả kiểm tra hiện trạng, Tòa an nhân dân tối cao xẻm xét, lap phương án sắp xếp lại, xử lý \\\n",
    "    các cơ sở nhà, đất thuộc phám vi Quản lý, gửi lấy ý kiến của Ủy ban nhân dân cấp tỉnh nơi có nhà, đất. \\\n",
    "    Riêng đổi với việc tổ chức kiểm tra hiện trạng, lập phương án, phê duyệt phương án sắp xếp lại, xử lý nhà, \\\n",
    "    đất trên địa bàn các thành phố Hà Nội, Hồ Chí Minh, Đà Nẵng, Cần Thơ, Hải Phòng do Bộ Tài chính thực hiện theo \\\n",
    "    quy định tại Mục 3, Điều 5 Nghị định số 167/2017/NĐ-CP: \",\n",
    "    \n",
    "    \"Căn cứ Quyếtđịnh số 676/2016/QĐ-TANDTC-KHTC ngày 13/9/2016 của Chánh án Tòa án nhân dân tối cao về \\\n",
    "    việc phân cấp quản lý ngân sách Nhà nước và quản lý dự án đầu tư xây dựng công trình trụ sở làm việc \\\n",
    "    Tòa án địa phương Để đảm bảo quản lý, sử dụng có hiệu quả các cơ sở nhà, đất trong hệ thống Tòa án nhân dân, \\\n",
    "    Tòa án nhân dân tối cao yêu cầu Thủ trưởng các đơn vị quán triệt, nghiêm túc thực hiện Luật Quản lý, sử dụng \\\n",
    "    tài sản công, các văn bản pháp luật có liên quan và hướng dan trình tự, thủ tục sắp xếp lại, xử lý nhà, đat \\\n",
    "    như sau: \",\n",
    "    \"ĐIỀU 6 : ĐIỀU KHOẢN VỀ BẢO DƯỜNG, SỬA CHỮA NHÀ & CÁC TRANG THIẾT BỊ\"\n",
    "]"
   ]
  },
  {
   "cell_type": "code",
   "execution_count": 4,
   "metadata": {},
   "outputs": [
    {
     "name": "stdout",
     "output_type": "stream",
     "text": [
      "Results: \n",
      "==============================================================================================\n",
      "Trên cơsở kếT quả kiểm tra hiện trạng, Tòa an nhân dân tối cao xẻm xét, lap phương án sắp xếp lại, xử lý     các cơ sở nhà, đất thuộc phám vi Quản lý, gửi lấy ý kiến của Ủy ban nhân dân cấp tỉnh nơi có nhà, đất.     Riêng đổi với việc tổ chức kiểm tra hiện trạng, lập phương án, phê duyệt phương án sắp xếp lại, xử lý nhà,     đất trên địa bàn các thành phố Hà Nội, Hồ Chí Minh, Đà Nẵng, Cần Thơ, Hải Phòng do Bộ Tài chính thực hiện theo     quy định tại Mục 3, Điều 5 Nghị định số 167/2017/NĐ-CP: \n",
      "----------------------------------------------------------------------------------------------\n",
      "Trên cơ sở kết quả kiểm tra hiện trạng, Tòa án nhân dân tối cao xem xét, lập phương án sắp xếp lại, xử lý các cơ sở nhà, đất thuộc phạm vi Quản lý, gửi lấy ý kiến của Ủy ban nhân dân cấp tỉnh nơi có nhà,đất. Riêng đối với việc tổ chức kiểm tra hiện trạng, lập phương án, phê duyệt phương án sắp xếp lại, xử lý nhà, đất trên địa bàn các thành phố Hà Nội, Hồ Chí Minh, Đà Nẵng, Cần Thơ, Hải Phòng do Bộ Tài chính thực hiện theo quy định tại Mục 3, Điều 5 Nghị định số 167/2017/NĐ-CP:\n",
      "==============================================================================================\n",
      "Căn cứ Quyếtđịnh số 676/2016/QĐ-TANDTC-KHTC ngày 13/9/2016 của Chánh án Tòa án nhân dân tối cao về     việc phân cấp quản lý ngân sách Nhà nước và quản lý dự án đầu tư xây dựng công trình trụ sở làm việc     Tòa án địa phương Để đảm bảo quản lý, sử dụng có hiệu quả các cơ sở nhà, đất trong hệ thống Tòa án nhân dân,     Tòa án nhân dân tối cao yêu cầu Thủ trưởng các đơn vị quán triệt, nghiêm túc thực hiện Luật Quản lý, sử dụng     tài sản công, các văn bản pháp luật có liên quan và hướng dan trình tự, thủ tục sắp xếp lại, xử lý nhà, đat     như sau: \n",
      "----------------------------------------------------------------------------------------------\n",
      "Căn cứ Quyết định số 676/2016/QĐ-TANDTC- KH TC ngày 13/9/ 2016 của Chánh án Tòa án nhân dân tối cao về việc phân cấp quản lý ngân sách Nhà nước và quản lý dự án đầu tư xây dựng công trình trụ sở làm việc Tòa án địa phương Để đảm bảo quản lý, sử dụng có hiệu quả các cơ sở nhà, đất trong hệ thống Tòa án nhân dân, Tòa án nhân dân tối cao yêu cầu Thủ trưởng các đơn vị quán triệt, nghiêm túc thực hiện Luật Quản lý, sử dụng tài sản công, các văn bản pháp luật có liên quan và hướng dẫn trình tự, thủ tục sắp xếp lại, xử lý nhà, đat như sau:\n",
      "==============================================================================================\n",
      "ĐIỀU 6 : ĐIỀU KHOẢN VỀ BẢO DƯỜNG, SỬA CHỮA NHÀ & CÁC TRANG THIẾT BỊ\n",
      "----------------------------------------------------------------------------------------------\n",
      "Điều 6: ĐIỀU KHOẢN VỀ BẢO DƯỜNG, SỬA CHỮA NHÀ& CÁC TRANG THIẾT BỊ\n"
     ]
    }
   ],
   "source": [
    "start = time.time()\n",
    "print('Results: ')\n",
    "for i, p in enumerate(unacc_paragraphs):\n",
    "    outs = model_predictor.predict(p.strip(), NGRAM=6)\n",
    "    print(\"==============================================================================================\")\n",
    "    print(p)\n",
    "    print(\"----------------------------------------------------------------------------------------------\")\n",
    "    print(outs)\n",
    "end = time.time()"
   ]
  },
  {
   "cell_type": "code",
   "execution_count": 5,
   "metadata": {},
   "outputs": [
    {
     "name": "stdout",
     "output_type": "stream",
     "text": [
      "Estimated time:  0.5070779323577881\n"
     ]
    }
   ],
   "source": [
    "print('Estimated time: ', end - start)"
   ]
  }
 ],
 "metadata": {
  "kernelspec": {
   "display_name": "manhbq",
   "language": "python",
   "name": "manhbq"
  },
  "language_info": {
   "codemirror_mode": {
    "name": "ipython",
    "version": 3
   },
   "file_extension": ".py",
   "mimetype": "text/x-python",
   "name": "python",
   "nbconvert_exporter": "python",
   "pygments_lexer": "ipython3",
   "version": "3.7.10"
  }
 },
 "nbformat": 4,
 "nbformat_minor": 4
}